{
 "cells": [
  {
   "cell_type": "markdown",
   "metadata": {},
   "source": [
    "# Getting Started\n",
    "\n",
    "Mondocks is a simple library with one purpose, create MongoDB Json Commands these commands can be executed by the various mongodb drivers that exist out there or even by the mongo shell.\n",
    "\n",
    "You can get started by typing on your console `dotnet add package Mondocks` and you'll be able to open the namespaces and modules that are included in this library\n",
    "\n",
    "## The Basics\n",
    "\n",
    "Mondocks follows this convention \n",
    "```sh\n",
    "\"command name\" \"collection name\" {\n",
    "    \"query contents\"\n",
    "    \"query contents\"\n",
    "    \"query contents\"\n",
    "    \"query contents\"\n",
    "}\n",
    "```\n",
    "So most of the commands will look the same, they will just have different options depending on what do you need to do with them.\n",
    "the *builder*'s signatures look a bit crazy and full of generics that might be confusing, in reallity we add the generics so you can use any kind of type you neeed to use, if you want to do query filters by Records because you have a shared filters project, you can query by anonymous records as if you were using a *javascript* object as well it's your choice we try to stay as away as posible to let you decide how do you want to handle your data types\n",
    "\n",
    "Let's start with some CRUD examples"
   ]
  },
  {
   "cell_type": "markdown",
   "metadata": {},
   "source": [
    "# Insert (Create)\n",
    "\n",
    "Inserts are fairly straight forward you just need to suply a sequence of objects they can be either records or anonymous records, if you want to go a little bit more dynamix you can also pass boxed objects that have different properties.\n",
    "\n",
    ""
   ]
  },
  {
   "cell_type": "code",
   "execution_count": 1,
   "metadata": {},
   "source": [
    "#!fsharp\n",
    "#r \"nuget: Mondocks\"\n",
    "\n",
    "open Mondocks.Queries\n",
    "\n",
    "(* let's start by doing some Create operations \n",
    "   we'll try to show how can do mongo like constructs\n",
    "   and then you can add some type safety on top of that\n",
    "*)\n",
    "\n",
    "let createSinglePost (title: string) (content: string) (author: string) = \n",
    "    insert \"posts\" {\n",
    "        documents\n",
    "            [\n",
    "                /// here we use anonymous records as if they were *mongo* (or *javascript*) objects\n",
    "                {| title = title; content = content;  author = author |}\n",
    "            ]\n",
    "    }\n",
    "let insertquery = createSinglePost \"This is my first post\" \"This is the content\" \"Angel D. Munoz\"\n",
    "printfn $\"%s{insertquery}\"\n",
    ""
   ],
   "outputs": [
    {
     "output_type": "execute_result",
     "data": {
      "text/plain": "Installed package Mondocks version 0.2.0"
     },
     "execution_count": 1,
     "metadata": {}
    },
    {
     "output_type": "execute_result",
     "data": {
      "text/plain": "{\"insert\":\"posts\",\"documents\":[{\"author\":\"Angel D. Munoz\",\"content\":\"This is the content\",\"title\":\"This is my first post\"}]}"
     },
     "execution_count": 1,
     "metadata": {}
    },
    {
     "output_type": "execute_result",
     "data": {
      "text/plain": "\r\n"
     },
     "execution_count": 1,
     "metadata": {}
    }
   ]
  },
  {
   "cell_type": "code",
   "execution_count": 1,
   "metadata": {},
   "source": [
    "#!fsharp\n",
    "(* Now, what if you want to insert multiple values?\n",
    "   well creating a query for each is not efficient so you just need to\n",
    "   pass an IEnumerable, e.g. a list, an array or a sequence with the data you want to insert\n",
    "   but this makes things a litte bit weird so why don't we make a type for it?\n",
    "*)\n",
    "type InsertPost = {| title: string; content: string;  author: string |}\n",
    "\n",
    "let createMultiplePosts (posts: InsertPost list) =\n",
    "    insert \"posts\" { documents posts }\n",
    "\n",
    "let postsToInsert =\n",
    "    createMultiplePosts [ {| title = \"This is my first post\"; content =  \"This is the content\"; author = \"Angel D. Munoz\" |}\n",
    "                          {| title = \"This is my second post\"; content =  \"This is the content\"; author = \"Angel D. Munoz\" |}\n",
    "                          {| title = \"This is my third post\"; content =  \"This is the content\"; author = \"Angel D. Munoz\" |}\n",
    "                          {| title = \"This is my fourth post\"; content =  \"This is the content\"; author = \"Angel D. Munoz\" |} ]\n",
    "\n",
    "// let's compare both\n",
    "printfn $\"%s{insertquery}\\n %s{postsToInsert}\"\n",
    ""
   ],
   "outputs": [
    {
     "output_type": "execute_result",
     "data": {
      "text/plain": "{\"insert\":\"posts\",\"documents\":[{\"author\":\"Angel D. Munoz\",\"content\":\"This is the content\",\"title\":\"This is my first post\"}]}"
     },
     "execution_count": 1,
     "metadata": {}
    },
    {
     "output_type": "execute_result",
     "data": {
      "text/plain": "\n "
     },
     "execution_count": 1,
     "metadata": {}
    },
    {
     "output_type": "execute_result",
     "data": {
      "text/plain": "{\"insert\":\"posts\",\"documents\":[{\"author\":\"Angel D. Munoz\",\"content\":\"This is the content\",\"title\":\"This is my first post\"},{\"author\":\"Angel D. Munoz\",\"content\":\"This is the content\",\"title\":\"This is my second post\"},{\"author\":\"Angel D. Munoz\",\"content\":\"This is the content\",\"title\":\"This is my third post\"},{\"author\":\"Angel D. Munoz\",\"content\":\"This is the content\",\"title\":\"This is my fourth post\"}]}"
     },
     "execution_count": 1,
     "metadata": {}
    },
    {
     "output_type": "execute_result",
     "data": {
      "text/plain": "\r\n"
     },
     "execution_count": 1,
     "metadata": {}
    }
   ]
  },
  {
   "cell_type": "markdown",
   "metadata": {},
   "source": [
    "\n",
    ""
   ]
  },
  {
   "cell_type": "code",
   "execution_count": 1,
   "metadata": {},
   "source": [
    "#!fsharp\n",
    "(* Let's go very very dynamic in this example let's add objects that\n",
    "   have different kinds of properties, this might not be un-common if your database\n",
    "   is being filled with data coming from other languages like javascript or python\n",
    "*)\n",
    "\n",
    "let createMultipleDynamicPosts = \n",
    "    insert \"posts\" {\n",
    "        documents [\n",
    "            box {| title = \"This is my first post\"; content =  \"This is the content\"; author = \"Angel D. Munoz\" |}\n",
    "            box {| title = \"This is my second post\"; content =  \"This is the content\"; author = \"Mike Thompson\"; createdAt = DateTime.Now |}\n",
    "            box {| title = \"This is my third post\"; content =  \"This is the content\"; author = \"Frank Miller\"; tags = [ \"mongodb\"; \"fsharp\"; \"nosql\"] |}\n",
    "        ]\n",
    "    }\n",
    "\n",
    "printfn $\"%s{createMultipleDynamicPosts}\""
   ],
   "outputs": [
    {
     "output_type": "execute_result",
     "data": {
      "text/plain": "{\"insert\":\"posts\",\"documents\":[{\"author\":\"Angel D. Munoz\",\"content\":\"This is the content\",\"title\":\"This is my first post\"},{\"author\":\"Mike Thompson\",\"content\":\"This is the content\",\"createdAt\":{\"$date\":{\"$numberLong\":\"1608146332584\"}},\"title\":\"This is my second post\"},{\"author\":\"Frank Miller\",\"content\":\"This is the content\",\"tags\":[\"mongodb\",\"fsharp\",\"nosql\"],\"title\":\"This is my third post\"}]}"
     },
     "execution_count": 1,
     "metadata": {}
    },
    {
     "output_type": "execute_result",
     "data": {
      "text/plain": "\r\n"
     },
     "execution_count": 1,
     "metadata": {}
    }
   ]
  },
  {
   "cell_type": "markdown",
   "metadata": {},
   "source": [
    "> Now I don't think I have to mention it but... that kind of dynamic data can be a little bit *problematic* if you try to use it from F# but business have different requirements all of the time as we mentioned earlier, we want to be as flexible as you need it to be as long as it fits mongo's way of doing things\n",
    "\n",
    "If you inspect a little the last output you'll see something that might not look like what you intended. Let's take a look for example at the `createdAt` property in the second post\n",
    "`\"createdAt\":{\"$date\":{\"$numberLong\":\"1608135821957\"}` this is what's called the [MongoDB](https://docs.mongodb.com/manual/reference/mongodb-extended-json/) extended json spec and it's basically a way to represent binary data (remember MongoDB uses BSON not JSON) in json with the least amount of data loss"
   ]
  },
  {
   "cell_type": "markdown",
   "metadata": {},
   "source": [
    "# Find (Read)\n",
    "\n",
    "Read operations can be really simple or they can be complex as well as with the insert queries, most of the time you should only need a couple of properties like `filter`, `limit`, `skip` and maybe `collation`.\n",
    "\n",
    "Also remember that these filters must be done in the way you'd do them with mongo so you have to use `$in` `$or` and all of those operators, you can find that reference in the mongodb documentation about [Operators](https://docs.mongodb.com/manual/reference/operator/query/)\n",
    "\n",
    "Let's get onto it."
   ]
  },
  {
   "cell_type": "code",
   "execution_count": 1,
   "metadata": {},
   "source": [
    "#!fsharp\n",
    "#r \"nuget: Mondocks\"\n",
    "\n",
    "open Mondocks.Queries\n",
    "\n",
    "(* First, let's do some 'raw' queries using anonymous records *)\n",
    "\n",
    "let productsCostAbovePrice (price: float) =\n",
    "    find \"products\" {\n",
    "        filter {| price = {| ``$gt``= price |} |}\n",
    "    }\n",
    "\n",
    "printfn $\"%s{productsCostAbovePrice 10.25 }\""
   ],
   "outputs": [
    {
     "output_type": "execute_result",
     "data": {
      "text/plain": "{\"find\":\"products\",\"filter\":{\"price\":{\"$gt\":{\"$numberDouble\":\"10.25\"}}}}"
     },
     "execution_count": 1,
     "metadata": {}
    },
    {
     "output_type": "execute_result",
     "data": {
      "text/plain": "\r\n"
     },
     "execution_count": 1,
     "metadata": {}
    }
   ]
  },
  {
   "cell_type": "code",
   "execution_count": 1,
   "metadata": {},
   "source": [
    "#!fsharp\n",
    "(* You can also leverage the dynamic nature of the anonymous\n",
    "   records to build filters on top of previous ones\n",
    "*)\n",
    "\n",
    "type GreaterThanFloat = {| ``$gt``: float |}\n",
    "type EqualsToInt = {| ``$eq``: int |}\n",
    "type PriceFilter = {| price: GreaterThanFloat |}\n",
    "type BatchNumFilter = {|  batchNum: EqualsToInt |}\n",
    "\n",
    "\n",
    "let greaterThanFloat (value: float): GreaterThanFloat = \n",
    "    {| ``$gt`` = value |}\n",
    "\n",
    "let equalsToInt (value: int): EqualsToInt = \n",
    "    {| ``$eq`` = value |}\n",
    "\n",
    "let getPriceFilter (gt: float -> GreaterThanFloat) (minPrice: float) =\n",
    "    {| price = gt minPrice |}\n",
    "\n",
    "let getBatchNumFilter (eq: int -> EqualsToInt) (batch: int) =\n",
    "    {| batchNum = eq batch |}\n",
    "\n",
    "// Let's combine the outputs from the previous functions to create a filter\n",
    "// with both filters\n",
    "let abovePriceFromBatch (minPrice: float) (batch: int) =\n",
    "    let priceFilter = getPriceFilter greaterThanFloat minPrice\n",
    "    {| priceFilter with batchNum = equalsToInt batch |}\n",
    "\n",
    "\n",
    "let ``find products above 250.30`` = \n",
    "    find \"products\" {\n",
    "        filter (getPriceFilter greaterThanFloat 250.30)\n",
    "    }\n",
    "\n",
    "let ``find products from batch 10`` = \n",
    "    find \"products\" {\n",
    "        filter (getBatchNumFilter equalsToInt 10)\n",
    "    }\n",
    "\n",
    "let ``find products above 250.30 from batch 10`` =\n",
    "    find \"products\" {\n",
    "        filter (abovePriceFromBatch 250.30 10)\n",
    "    }\n",
    "\n",
    "printf $\"{``find products above 250.30``}\\n{``find products from batch 10``}\\n{``find products above 250.30 from batch 10``}\""
   ],
   "outputs": [
    {
     "output_type": "execute_result",
     "data": {
      "text/plain": "{\"find\":\"products\",\"filter\":{\"price\":{\"$gt\":{\"$numberDouble\":\"250.3\"}}}}"
     },
     "execution_count": 1,
     "metadata": {}
    },
    {
     "output_type": "execute_result",
     "data": {
      "text/plain": "\n"
     },
     "execution_count": 1,
     "metadata": {}
    },
    {
     "output_type": "execute_result",
     "data": {
      "text/plain": "{\"find\":\"products\",\"filter\":{\"batchNum\":{\"$eq\":{\"$numberInt\":\"10\"}}}}"
     },
     "execution_count": 1,
     "metadata": {}
    },
    {
     "output_type": "execute_result",
     "data": {
      "text/plain": "\n"
     },
     "execution_count": 1,
     "metadata": {}
    },
    {
     "output_type": "execute_result",
     "data": {
      "text/plain": "{\"find\":\"products\",\"filter\":{\"batchNum\":{\"$eq\":{\"$numberInt\":\"10\"}},\"price\":{\"$gt\":{\"$numberDouble\":\"250.3\"}}}}"
     },
     "execution_count": 1,
     "metadata": {}
    }
   ]
  },
  {
   "cell_type": "code",
   "execution_count": 1,
   "metadata": {},
   "source": [
    "#!fsharp\n",
    "(* To do the usual pagination it's fairly simple as well *)\n",
    "\n",
    "let paginatedProductsPerBatch (batch: int) (page: int) (itemsPerPage: int) = \n",
    "    find \"products\" {\n",
    "        filter (getBatchNumFilter equalsToInt batch)\n",
    "        skip ((page - 1 ) * itemsPerPage)\n",
    "        limit itemsPerPage\n",
    "    }\n",
    "\n",
    "printfn $\"%s{paginatedProductsPerBatch 10 2 20}\"\n",
    ""
   ],
   "outputs": [
    {
     "output_type": "execute_result",
     "data": {
      "text/plain": "{\"find\":\"products\",\"filter\":{\"batchNum\":{\"$eq\":{\"$numberInt\":\"10\"}}},\"skip\":{\"$numberInt\":\"20\"},\"limit\":{\"$numberInt\":\"20\"}}"
     },
     "execution_count": 1,
     "metadata": {}
    },
    {
     "output_type": "execute_result",
     "data": {
      "text/plain": "\r\n"
     },
     "execution_count": 1,
     "metadata": {}
    }
   ]
  },
  {
   "cell_type": "markdown",
   "metadata": {},
   "source": [
    "If you want more type-safety around your queries you can use Records instead of anonymous ones, that'll allow you to (up to some degree) do some refactorings but please bear in mind that this only  affects your queries, not the existing underlaying data inside your mongo database.\n",
    "Also, but you can still use records to *augment* your filters"
   ]
  },
  {
   "cell_type": "code",
   "execution_count": 1,
   "metadata": {},
   "source": [
    "#!fsharp\n",
    "open MongoDB.Bson\n",
    "\n",
    "type Question = { question: string; answer: string; }\n",
    "type TitleFilter = { title: string }\n",
    "type Form =\n",
    "    { _id: ObjectId\n",
    "      title: string;\n",
    "      questions: Question list\n",
    "      user: ObjectId }\n",
    "\n",
    "let filterQuestionsIn (questions: string list) =\n",
    "    let questions =\n",
    "        questions\n",
    "        |> List.map (fun question -> {| question = question |})\n",
    "    {| ``$in`` =  questions |}\n",
    "\n",
    "let filterTitle (title: string) =\n",
    "    { title = title }\n",
    "\n",
    "let findFormsWithQuestions (questions: string list) =\n",
    "    find \"forms\" {\n",
    "        filter (filterQuestionsIn questions)\n",
    "    }\n",
    "\n",
    "let findFormsWithTitle (title: string) = \n",
    "    find \"forms\" {\n",
    "        filter (filterTitle title)\n",
    "    }\n",
    "\n",
    "let findFormsWithQuestionsAndTitle (questions: string list) (title: string) =\n",
    "    let formFilter =\n",
    "        let title = filterTitle title\n",
    "        // create a new filter from an existing record\n",
    "        {| title with \n",
    "            question = filterQuestionsIn questions |}\n",
    "    find \"forms\" {\n",
    "        filter formFilter\n",
    "    }\n",
    "\n",
    "let ``find forms with Sample as a title`` = \n",
    "    findFormsWithTitle \"Sample\"\n",
    "\n",
    "let ``find forms with two questions`` = \n",
    "    findFormsWithQuestions [\"What's your name?\"; \"Where do you live?\"]\n",
    "    \n",
    "let ``find forms with two questions and Sample as a title`` = \n",
    "    findFormsWithQuestionsAndTitle [\"What's your name?\"; \"Where do you live?\"] \"Sample\"\n",
    "\n",
    "printfn $\"%s{``find forms with Sample as a title``}\\n%s{``find forms with two questions``}\\n%s{``find forms with two questions and Sample as a title``}\"\n",
    ""
   ],
   "outputs": [
    {
     "output_type": "execute_result",
     "data": {
      "text/plain": "{\"find\":\"forms\",\"filter\":{\"title\":\"Sample\"}}"
     },
     "execution_count": 1,
     "metadata": {}
    },
    {
     "output_type": "execute_result",
     "data": {
      "text/plain": "\n"
     },
     "execution_count": 1,
     "metadata": {}
    },
    {
     "output_type": "execute_result",
     "data": {
      "text/plain": "{\"find\":\"forms\",\"filter\":{\"$in\":[{\"question\":\"What\\u0027s your name?\"},{\"question\":\"Where do you live?\"}]}}"
     },
     "execution_count": 1,
     "metadata": {}
    },
    {
     "output_type": "execute_result",
     "data": {
      "text/plain": "\n"
     },
     "execution_count": 1,
     "metadata": {}
    },
    {
     "output_type": "execute_result",
     "data": {
      "text/plain": "{\"find\":\"forms\",\"filter\":{\"question\":{\"$in\":[{\"question\":\"What\\u0027s your name?\"},{\"question\":\"Where do you live?\"}]},\"title\":\"Sample\"}}"
     },
     "execution_count": 1,
     "metadata": {}
    },
    {
     "output_type": "execute_result",
     "data": {
      "text/plain": "\r\n"
     },
     "execution_count": 1,
     "metadata": {}
    }
   ]
  },
  {
   "cell_type": "markdown",
   "metadata": {},
   "source": [
    "# Update\n",
    "\n",
    "Update operations are fairly straight forward as well although, for the update queries there's a helper type that can be used named `UpdateQuery<'Query, 'Update, 'Hint>`\n",
    "\n",
    "let's dive into it"
   ]
  },
  {
   "cell_type": "code",
   "execution_count": 1,
   "metadata": {},
   "source": [
    "#!fsharp\n",
    "#r \"nuget: Mondocks\"\n",
    "\n",
    "open MongoDB.Bson\n",
    "open Mondocks.Types\n",
    "open Mondocks.Queries\n",
    "\n",
    "type User = { _id: ObjectId; name: string; age: int; email: string; }\n",
    "\n",
    "let updateUsersEmail(payload: User * string) =\n",
    "    let (user, email) = payload\n",
    "    let updatedUser = { user with email = email }\n",
    "    update \"users\" {\n",
    "        updates [\n",
    "            { q = {| _id = user._id |}; \n",
    "              u = updatedUser; \n",
    "              upsert = None; multi = None; \n",
    "              collation = None; \n",
    "              arrayFilters = None; \n",
    "              hint = None }\n",
    "        ]\n",
    "    }\n",
    "\n",
    "/// Now, let's say for example further down the road you need to add a property to all of your existing users\n",
    "/// think of this as a \"migration\" and setting a default value so it doesn't conflict with\n",
    "/// your existing F# records\n",
    "\n",
    "type UserUpgrade = { _id: ObjectId; name: string; age: int; email: string; withNewProperty: bool }\n",
    "\n",
    "let upgradeUsersSchema =\n",
    "    update \"users\" {\n",
    "        updates [\n",
    "            { q = {||};\n",
    "              u = {| ``$set`` = {| withNewProperty = true |} |}\n",
    "              upsert = None\n",
    "              multi = Some true\n",
    "              collation = None\n",
    "              arrayFilters = None\n",
    "              hint = None }\n",
    "        ]\n",
    "    }\n",
    "\n",
    "let user = {_id = ObjectId.GenerateNewId(); name = \"Daniel\"; age = 28; email= \"some@email.com\" }\n",
    "let newEmail = \"new@email.com\"\n",
    "printfn $\"%s{updateUsersEmail (user, newEmail)}\\n%s{upgradeUsersSchema}\"\n",
    ""
   ],
   "outputs": [
    {
     "output_type": "execute_result",
     "data": {
      "text/plain": "{\"update\":\"users\",\"updates\":[{\"q\":{\"_id\":{\"$oid\":\"5fda69f944739a88f3dadd84\"}},\"u\":{\"_id\":{\"$oid\":\"5fda69f944739a88f3dadd84\"},\"name\":\"Daniel\",\"age\":{\"$numberInt\":\"28\"},\"email\":\"new@email.com\"}}]}"
     },
     "execution_count": 1,
     "metadata": {}
    },
    {
     "output_type": "execute_result",
     "data": {
      "text/plain": "\n"
     },
     "execution_count": 1,
     "metadata": {}
    },
    {
     "output_type": "execute_result",
     "data": {
      "text/plain": "{\"update\":\"users\",\"updates\":[{\"q\":{},\"u\":{\"$set\":{\"withNewProperty\":true}},\"multi\":true}]}"
     },
     "execution_count": 1,
     "metadata": {}
    },
    {
     "output_type": "execute_result",
     "data": {
      "text/plain": "\r\n"
     },
     "execution_count": 1,
     "metadata": {}
    }
   ]
  },
  {
   "cell_type": "markdown",
   "metadata": {},
   "source": [
    "### BEWARE\n",
    "executing queries against `{||}` (mongo's `{}`) is going to affect all documents inside a collection (specially if `multi = Some true` is provided)\n",
    "\n",
    "So be really careful when you update your database using empty objects "
   ]
  },
  {
   "cell_type": "markdown",
   "metadata": {},
   "source": [
    "# Delete\n",
    "\n",
    "Deletes are very much like Updates there's also a helper type named `DeleteQuery<'Delete, 'Hint, 'Comment>`\n",
    "\n",
    "Let's check some samples"
   ]
  },
  {
   "cell_type": "code",
   "execution_count": 1,
   "metadata": {},
   "source": [
    "#!fsharp\n",
    "#r \"nuget: Mondocks\"\n",
    "\n",
    "open Mondocks.Queries\n",
    "\n",
    "let deleteUserWhereName  (name: string) =\n",
    "    delete \"users\" {\n",
    "        deletes [\n",
    "            { q = {| name = name |}\n",
    "              /// if you want to delete all documents that match the criteria use\n",
    "              /// `limit = 0`\n",
    "              limit = 1\n",
    "              collation = None\n",
    "              hint = None\n",
    "              comment = None }\n",
    "        ]\n",
    "    }\n",
    ""
   ],
   "outputs": []
  },
  {
   "cell_type": "markdown",
   "metadata": {},
   "source": [
    "> You can do multiple delete queries (with updates as well)\n",
    ">\n",
    "> ***NOTE***: Please note that you need to box the queries if they have different matching criteria"
   ]
  },
  {
   "cell_type": "code",
   "execution_count": 1,
   "metadata": {},
   "source": [
    "#!fsharp\n",
    "let deleteAllUsersWhereName (name: string) =\n",
    "    { q = box {| name = name |}\n",
    "      limit = 0\n",
    "      collation = None\n",
    "      hint = None\n",
    "      comment = None }\n",
    "\n",
    "let delete10YOStaleUsers() =\n",
    "    { q = \n",
    "        // sorry if my query is incorrect I just want to showcase multiple deletes 😅\n",
    "        box {| lastLogin = {| ``$lte`` = DateTimeOffset.Now.Subtract(TimeSpan.FromDays(3650.)) |} |}\n",
    "      limit = 0\n",
    "      collation = None\n",
    "      hint = None\n",
    "      comment = None }\n",
    "\n",
    "let deleteAllStaleUsersFromDate = \n",
    "    delete \"users\" {\n",
    "        deletes [\n",
    "            deleteAllUsersWhereName \"Angel\"\n",
    "            delete10YOStaleUsers()\n",
    "        ]\n",
    "    }\n",
    "\n",
    "printfn $\"%s{deleteAllStaleUsersFromDate}\""
   ],
   "outputs": [
    {
     "output_type": "execute_result",
     "data": {
      "text/plain": "{\"delete\":\"users\",\"deletes\":[{\"q\":{\"name\":\"Angel\"},\"limit\":{\"$numberInt\":\"0\"}},{\"q\":{\"lastLogin\":{\"$lte\":{\"$date\":{\"$numberLong\":\"1292790752079\"}}}},\"limit\":{\"$numberInt\":\"0\"}}]}"
     },
     "execution_count": 1,
     "metadata": {}
    },
    {
     "output_type": "execute_result",
     "data": {
      "text/plain": "\r\n"
     },
     "execution_count": 1,
     "metadata": {}
    }
   ]
  }
 ],
 "metadata": {
  "kernelspec": {
   "display_name": ".NET (C#)",
   "language": "C#",
   "name": ".net-csharp"
  },
  "language_info": {
   "file_extension": ".cs",
   "mimetype": "text/x-csharp",
   "name": "C#",
   "pygments_lexer": "csharp",
   "version": "8.0"
  }
 },
 "nbformat": 4,
 "nbformat_minor": 4
}